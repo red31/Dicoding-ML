{
  "nbformat": 4,
  "nbformat_minor": 0,
  "metadata": {
    "colab": {
      "name": "Rock-Paper-Scissors-Arist",
      "provenance": [],
      "toc_visible": true,
      "include_colab_link": true
    },
    "kernelspec": {
      "name": "python3",
      "display_name": "Python 3"
    },
    "language_info": {
      "name": "python"
    },
    "accelerator": "GPU"
  },
  "cells": [
    {
      "cell_type": "markdown",
      "metadata": {
        "id": "view-in-github",
        "colab_type": "text"
      },
      "source": [
        "<a href=\"https://colab.research.google.com/github/red31/Dicoding-ML/blob/main/Rock_Paper_Scissors_Arist.ipynb\" target=\"_parent\"><img src=\"https://colab.research.google.com/assets/colab-badge.svg\" alt=\"Open In Colab\"/></a>"
      ]
    },
    {
      "cell_type": "markdown",
      "metadata": {
        "id": "Wy6KdzbY1T_M"
      },
      "source": [
        "# Import Libraries"
      ]
    },
    {
      "cell_type": "code",
      "metadata": {
        "id": "COdnyc1TzuXj",
        "colab": {
          "base_uri": "https://localhost:8080/"
        },
        "outputId": "5d679807-c658-4e4a-afbf-ab1dd289e74a"
      },
      "source": [
        "from io import BytesIO\n",
        "from IPython.display import Image as IMG\n",
        "from google.colab import files\n",
        "from keras.preprocessing import image\n",
        "from shutil import copyfile\n",
        "from sklearn.metrics import classification_report, confusion_matrix\n",
        "from tensorflow.keras.applications.inception_v3 import InceptionV3\n",
        "from tensorflow.keras.preprocessing.image import ImageDataGenerator\n",
        "from tensorflow.keras.optimizers import RMSprop\n",
        "from urllib.request import urlopen\n",
        "import seaborn as sns\n",
        "import matplotlib.image as mpimg\n",
        "import matplotlib.pyplot as plt\n",
        "import numpy as np\n",
        "import pandas as pd\n",
        "import random\n",
        "import tensorflow as tf\n",
        "import zipfile, os\n",
        "import warnings\n",
        "warnings.filterwarnings(\"ignore\")\n",
        "\n",
        "!pip install ipython-autotime\n",
        "%load_ext autotime"
      ],
      "execution_count": null,
      "outputs": [
        {
          "output_type": "stream",
          "text": [
            "Collecting ipython-autotime\n",
            "  Downloading https://files.pythonhosted.org/packages/b4/c9/b413a24f759641bc27ef98c144b590023c8038dfb8a3f09e713e9dff12c1/ipython_autotime-0.3.1-py2.py3-none-any.whl\n",
            "Requirement already satisfied: ipython in /usr/local/lib/python3.7/dist-packages (from ipython-autotime) (5.5.0)\n",
            "Requirement already satisfied: pygments in /usr/local/lib/python3.7/dist-packages (from ipython->ipython-autotime) (2.6.1)\n",
            "Requirement already satisfied: pexpect; sys_platform != \"win32\" in /usr/local/lib/python3.7/dist-packages (from ipython->ipython-autotime) (4.8.0)\n",
            "Requirement already satisfied: pickleshare in /usr/local/lib/python3.7/dist-packages (from ipython->ipython-autotime) (0.7.5)\n",
            "Requirement already satisfied: simplegeneric>0.8 in /usr/local/lib/python3.7/dist-packages (from ipython->ipython-autotime) (0.8.1)\n",
            "Requirement already satisfied: traitlets>=4.2 in /usr/local/lib/python3.7/dist-packages (from ipython->ipython-autotime) (5.0.5)\n",
            "Requirement already satisfied: prompt-toolkit<2.0.0,>=1.0.4 in /usr/local/lib/python3.7/dist-packages (from ipython->ipython-autotime) (1.0.18)\n",
            "Requirement already satisfied: decorator in /usr/local/lib/python3.7/dist-packages (from ipython->ipython-autotime) (4.4.2)\n",
            "Requirement already satisfied: setuptools>=18.5 in /usr/local/lib/python3.7/dist-packages (from ipython->ipython-autotime) (56.1.0)\n",
            "Requirement already satisfied: ptyprocess>=0.5 in /usr/local/lib/python3.7/dist-packages (from pexpect; sys_platform != \"win32\"->ipython->ipython-autotime) (0.7.0)\n",
            "Requirement already satisfied: ipython-genutils in /usr/local/lib/python3.7/dist-packages (from traitlets>=4.2->ipython->ipython-autotime) (0.2.0)\n",
            "Requirement already satisfied: wcwidth in /usr/local/lib/python3.7/dist-packages (from prompt-toolkit<2.0.0,>=1.0.4->ipython->ipython-autotime) (0.2.5)\n",
            "Requirement already satisfied: six>=1.9.0 in /usr/local/lib/python3.7/dist-packages (from prompt-toolkit<2.0.0,>=1.0.4->ipython->ipython-autotime) (1.15.0)\n",
            "Installing collected packages: ipython-autotime\n",
            "Successfully installed ipython-autotime-0.3.1\n",
            "time: 1.34 ms (started: 2021-05-16 12:25:15 +00:00)\n"
          ],
          "name": "stdout"
        }
      ]
    },
    {
      "cell_type": "markdown",
      "metadata": {
        "id": "VNh8RrdG1f-X"
      },
      "source": [
        "# Download Data\n",
        "\n",
        "Download data from [this link](https://dicodingacademy.blob.core.windows.net/picodiploma/ml_pemula_academy/rockpaperscissors.zip)"
      ]
    },
    {
      "cell_type": "code",
      "metadata": {
        "colab": {
          "base_uri": "https://localhost:8080/"
        },
        "id": "fA440RIYOulZ",
        "outputId": "ce0c4c15-38f6-40fe-dde9-fc529e7f35ab"
      },
      "source": [
        "!wget --no-check-certificate \\\n",
        "  https://dicodingacademy.blob.core.windows.net/picodiploma/ml_pemula_academy/rockpaperscissors.zip \\\n",
        "  -O /tmp/rockpaperscissors.zip"
      ],
      "execution_count": null,
      "outputs": [
        {
          "output_type": "stream",
          "text": [
            "--2021-05-16 12:25:15--  https://dicodingacademy.blob.core.windows.net/picodiploma/ml_pemula_academy/rockpaperscissors.zip\n",
            "Resolving dicodingacademy.blob.core.windows.net (dicodingacademy.blob.core.windows.net)... 52.239.197.36\n",
            "Connecting to dicodingacademy.blob.core.windows.net (dicodingacademy.blob.core.windows.net)|52.239.197.36|:443... connected.\n",
            "HTTP request sent, awaiting response... 200 OK\n",
            "Length: 322873683 (308M) [application/zip]\n",
            "Saving to: ‘/tmp/rockpaperscissors.zip’\n",
            "\n",
            "/tmp/rockpapersciss 100%[===================>] 307.92M  22.0MB/s    in 14s     \n",
            "\n",
            "2021-05-16 12:25:30 (21.4 MB/s) - ‘/tmp/rockpaperscissors.zip’ saved [322873683/322873683]\n",
            "\n",
            "time: 15.1 s (started: 2021-05-16 12:25:15 +00:00)\n"
          ],
          "name": "stdout"
        }
      ]
    },
    {
      "cell_type": "markdown",
      "metadata": {
        "id": "UxrZOMsp1mj_"
      },
      "source": [
        "# Extraxt Data\n",
        "\n",
        "Extraxt and save data locally in /tmp folder"
      ]
    },
    {
      "cell_type": "code",
      "metadata": {
        "id": "zHXaL4ZeO-Pg",
        "colab": {
          "base_uri": "https://localhost:8080/"
        },
        "outputId": "5b9c6b0a-d541-4e93-b9ee-509cc99638fd"
      },
      "source": [
        "local_zip = '/tmp/rockpaperscissors.zip'\n",
        "zip_ref = zipfile.ZipFile(local_zip, 'r')\n",
        "zip_ref.extractall('/tmp')\n",
        "zip_ref.close()"
      ],
      "execution_count": null,
      "outputs": [
        {
          "output_type": "stream",
          "text": [
            "time: 4.64 s (started: 2021-05-16 12:25:31 +00:00)\n"
          ],
          "name": "stdout"
        }
      ]
    },
    {
      "cell_type": "markdown",
      "metadata": {
        "id": "-L4Whyfx2C47"
      },
      "source": [
        "# Inspect the Data"
      ]
    },
    {
      "cell_type": "code",
      "metadata": {
        "colab": {
          "base_uri": "https://localhost:8080/"
        },
        "id": "vnTFnFATRhBe",
        "outputId": "c5825f14-c43f-4fde-b933-d58076d2d8ff"
      },
      "source": [
        "print('Number of Rock images: ', len(os.listdir('/tmp/rockpaperscissors/rock/')))\n",
        "print('Number of Paper images: ', len(os.listdir('/tmp/rockpaperscissors/paper/')))\n",
        "print('Number of Scissors images: ', len(os.listdir('/tmp/rockpaperscissors/scissors/')))"
      ],
      "execution_count": null,
      "outputs": [
        {
          "output_type": "stream",
          "text": [
            "Number of Rock images:  726\n",
            "Number of Paper images:  712\n",
            "Number of Scissors images:  750\n",
            "time: 7.1 ms (started: 2021-05-16 12:25:35 +00:00)\n"
          ],
          "name": "stdout"
        }
      ]
    },
    {
      "cell_type": "markdown",
      "metadata": {
        "id": "L5r6Hc3Z2JEl"
      },
      "source": [
        "# Try Making Some Folders for Modelling"
      ]
    },
    {
      "cell_type": "code",
      "metadata": {
        "id": "67wiAXRpRzAZ",
        "colab": {
          "base_uri": "https://localhost:8080/"
        },
        "outputId": "7f2acc5b-3496-4e23-f992-33bcb160bc86"
      },
      "source": [
        "try:\n",
        "  os.mkdir('/tmp/rockpaperscissors/training')\n",
        "  os.mkdir('/tmp/rockpaperscissors/training/rock')\n",
        "  os.mkdir('/tmp/rockpaperscissors/training/paper')\n",
        "  os.mkdir('/tmp/rockpaperscissors/training/scissors')\n",
        "  os.mkdir('/tmp/rockpaperscissors/testing')\n",
        "  os.mkdir('/tmp/rockpaperscissors/testing/rock')\n",
        "  os.mkdir('/tmp/rockpaperscissors/testing/paper')\n",
        "  os.mkdir('/tmp/rockpaperscissors/testing/scissors')\n",
        "except OSError:\n",
        "  pass"
      ],
      "execution_count": null,
      "outputs": [
        {
          "output_type": "stream",
          "text": [
            "time: 6.51 ms (started: 2021-05-16 12:25:35 +00:00)\n"
          ],
          "name": "stdout"
        }
      ]
    },
    {
      "cell_type": "markdown",
      "metadata": {
        "id": "xyB-u39Z2Pc4"
      },
      "source": [
        "# Split Data"
      ]
    },
    {
      "cell_type": "code",
      "metadata": {
        "id": "iZzSwKujTB7R",
        "colab": {
          "base_uri": "https://localhost:8080/"
        },
        "outputId": "4c136cc7-9e5d-4885-8925-d7d3db65632c"
      },
      "source": [
        "def split_data(images_path, training_path, testing_path, split_size):\n",
        "    files = []\n",
        "    for filename in os.listdir(images_path):\n",
        "        file = images_path + filename\n",
        "        if os.path.getsize(file) > 0:\n",
        "            files.append(filename)\n",
        "        else:\n",
        "            print(filename + \" others\")\n",
        "\n",
        "    training_length = int(len(files) * split_size)\n",
        "    testing_length = int(len(files) - training_length)\n",
        "    shuffled_set = random.sample(files, len(files))\n",
        "    training_set = shuffled_set[0:training_length]\n",
        "    testing_set = shuffled_set[training_length:]\n",
        "\n",
        "    for filename in training_set:\n",
        "        this_file = images_path + filename\n",
        "        destination = training_path + filename\n",
        "        copyfile(this_file, destination)\n",
        "\n",
        "    for filename in testing_set:\n",
        "        this_file = images_path + filename\n",
        "        destination = testing_path + filename\n",
        "        copyfile(this_file, destination)\n",
        "\n",
        "rock_images_path = \"/tmp/rockpaperscissors/rock/\"\n",
        "rock_train_path = \"/tmp/rockpaperscissors/training/rock/\"\n",
        "rock_test_path = \"/tmp/rockpaperscissors/testing/rock/\"\n",
        "\n",
        "paper_images_path = \"/tmp/rockpaperscissors/paper/\"\n",
        "paper_train_path = \"/tmp/rockpaperscissors/training/paper/\"\n",
        "paper_test_path = \"/tmp/rockpaperscissors/testing/paper/\"\n",
        "\n",
        "scissors_images_path = \"/tmp/rockpaperscissors/scissors/\"\n",
        "scissors_train_path = \"/tmp/rockpaperscissors/training/scissors/\"\n",
        "scissors_test_path = \"/tmp/rockpaperscissors/testing/scissors/\"\n",
        "\n",
        "split_size = 0.6 # 60% Data Training and 40% Data Validation\n",
        "split_data(rock_images_path, rock_train_path, rock_test_path, split_size)\n",
        "split_data(paper_images_path, paper_train_path, paper_test_path, split_size)\n",
        "split_data(scissors_images_path, scissors_train_path, scissors_test_path, split_size)"
      ],
      "execution_count": null,
      "outputs": [
        {
          "output_type": "stream",
          "text": [
            "time: 640 ms (started: 2021-05-16 12:25:35 +00:00)\n"
          ],
          "name": "stdout"
        }
      ]
    },
    {
      "cell_type": "markdown",
      "metadata": {
        "id": "vMySQshW3g2Z"
      },
      "source": [
        "# Inspect the Size of Training and Validation Data"
      ]
    },
    {
      "cell_type": "code",
      "metadata": {
        "colab": {
          "base_uri": "https://localhost:8080/"
        },
        "id": "10lc6u_b26rG",
        "outputId": "8088acfb-eee8-44b7-8c9a-46125d827dd4"
      },
      "source": [
        "total_train = len(os.listdir(rock_train_path)) + len(os.listdir(paper_train_path)) + len(os.listdir(scissors_train_path))\n",
        "total_test = len(os.listdir(rock_test_path)) + len(os.listdir(paper_test_path)) + len(os.listdir(scissors_test_path))\n",
        "\n",
        "print(\"We have a total training data of \" + str(total_train) + \" rows and validation data of \" + str(total_test))"
      ],
      "execution_count": null,
      "outputs": [
        {
          "output_type": "stream",
          "text": [
            "We have a total training data of 1312 rows and validation data of 876\n",
            "time: 6.92 ms (started: 2021-05-16 12:25:36 +00:00)\n"
          ],
          "name": "stdout"
        }
      ]
    },
    {
      "cell_type": "markdown",
      "metadata": {
        "id": "wVxj5Hms4rs1"
      },
      "source": [
        "# Implement the Image Augmentation"
      ]
    },
    {
      "cell_type": "code",
      "metadata": {
        "colab": {
          "base_uri": "https://localhost:8080/"
        },
        "id": "wg1RQcNZUvCW",
        "outputId": "2fd5b60f-4883-4fee-ed43-8be09dea47e3"
      },
      "source": [
        "TRAINING_DIR = '/tmp/rockpaperscissors/training/'\n",
        "train_datagen = ImageDataGenerator(\n",
        "    rescale = 1./255,\n",
        "    rotation_range = 30,\n",
        "    width_shift_range = 0.1,\n",
        "    height_shift_range = 0.2,\n",
        "    shear_range = 0.2,\n",
        "    zoom_range = 0.2,\n",
        "    horizontal_flip = True,\n",
        "    fill_mode = 'nearest'\n",
        ") \n",
        "\n",
        "train_generator = train_datagen.flow_from_directory(\n",
        "    TRAINING_DIR, \n",
        "    batch_size = 128,\n",
        "    class_mode = 'categorical',\n",
        "    target_size = (150,150)\n",
        ")\n",
        "\n",
        "VALIDATION_DIR = \"/tmp/rockpaperscissors/testing\"\n",
        "validation_datagen = ImageDataGenerator(rescale = 1./255)\n",
        "validation_generator = validation_datagen.flow_from_directory(\n",
        "    VALIDATION_DIR,\n",
        "    batch_size=128,\n",
        "    class_mode='categorical',\n",
        "    target_size=(150, 150)\n",
        ")"
      ],
      "execution_count": null,
      "outputs": [
        {
          "output_type": "stream",
          "text": [
            "Found 1312 images belonging to 3 classes.\n",
            "Found 876 images belonging to 3 classes.\n",
            "time: 223 ms (started: 2021-05-16 12:25:36 +00:00)\n"
          ],
          "name": "stdout"
        }
      ]
    },
    {
      "cell_type": "markdown",
      "metadata": {
        "id": "iCKPhe-fDgZo"
      },
      "source": [
        "# Use Callback to Control the Epoch"
      ]
    },
    {
      "cell_type": "code",
      "metadata": {
        "id": "tJ-2H09Kfauu",
        "colab": {
          "base_uri": "https://localhost:8080/"
        },
        "outputId": "40c7bb6f-9f3c-4022-f147-e0b18eee547a"
      },
      "source": [
        "reduce_lr = tf.keras.callbacks.ReduceLROnPlateau(\n",
        "    monitor='val_loss', \n",
        "    factor=0.2,\n",
        "    patience=5, \n",
        "    min_lr=1.5e-5\n",
        ")\n",
        "\n",
        "early_stop = tf.keras.callbacks.EarlyStopping(\n",
        "    monitor=\"val_loss\",\n",
        "    min_delta=0,\n",
        "    patience=12,\n",
        "    verbose=0,\n",
        "    mode=\"auto\",\n",
        "    baseline=None,\n",
        "    restore_best_weights=True\n",
        ")"
      ],
      "execution_count": null,
      "outputs": [
        {
          "output_type": "stream",
          "text": [
            "time: 4.55 ms (started: 2021-05-16 12:25:36 +00:00)\n"
          ],
          "name": "stdout"
        }
      ]
    },
    {
      "cell_type": "markdown",
      "metadata": {
        "id": "FjDByj2GANUW"
      },
      "source": [
        "# Make Some Function to Plot the Modelling History"
      ]
    },
    {
      "cell_type": "code",
      "metadata": {
        "id": "qDcXxNqQcJFi",
        "colab": {
          "base_uri": "https://localhost:8080/"
        },
        "outputId": "84482808-2891-41a8-c152-1e9ca10cd41a"
      },
      "source": [
        "plt.style.use('seaborn-whitegrid')\n",
        "\n",
        "def plot_acc(history):\n",
        "  acc = history.history['accuracy']\n",
        "  val_acc = history.history['val_accuracy']\n",
        "  epochs = range(len(acc))\n",
        "  plt.subplot(1, 2, 1)\n",
        "  acc_plot, = plt.plot(epochs, acc, 'r')\n",
        "  val_acc_plot, = plt.plot(epochs, val_acc, 'b')\n",
        "  plt.title('Training and Validation Accuracy')\n",
        "  plt.legend([acc_plot, val_acc_plot], ['Training Accuracy', 'Validation Accuracy'])\n",
        "\n",
        "\n",
        "def plot_loss(history):\n",
        "  loss = history.history['loss']\n",
        "  val_loss = history.history['val_loss']\n",
        "  epochs = range(len(loss))\n",
        "  plt.subplot(1, 2, 2)\n",
        "  loss_plot, = plt.plot(epochs, loss, 'r')\n",
        "  val_loss_plot, = plt.plot(epochs, val_loss, 'b')\n",
        "  plt.title('Training and Validation Loss')\n",
        "  plt.legend([loss_plot, val_loss_plot], ['Training Loss', 'Validation Loss'])\n",
        "\n",
        "def plot_history(history):\n",
        "  plt.figure(figsize=(15,5))\n",
        "  plot_acc(history)\n",
        "  plot_loss(history)"
      ],
      "execution_count": null,
      "outputs": [
        {
          "output_type": "stream",
          "text": [
            "time: 24.2 ms (started: 2021-05-16 12:25:36 +00:00)\n"
          ],
          "name": "stdout"
        }
      ]
    },
    {
      "cell_type": "markdown",
      "metadata": {
        "id": "pMSrfF8zBQe5"
      },
      "source": [
        "# Construct Basic Sequential Model Using CNN"
      ]
    },
    {
      "cell_type": "code",
      "metadata": {
        "colab": {
          "base_uri": "https://localhost:8080/"
        },
        "id": "r5i0WNgLcSUU",
        "outputId": "37f6ade2-56b9-4ecb-be08-57864dbcf07b"
      },
      "source": [
        "tf.keras.backend.clear_session()\n",
        "\n",
        "model_simple = tf.keras.models.Sequential([\n",
        "    tf.keras.layers.Conv2D(16, (3, 3), activation='relu', input_shape=(150, 150, 3)),\n",
        "    tf.keras.layers.MaxPooling2D(2, 2),\n",
        "    tf.keras.layers.Conv2D(64, (3,3), activation='relu'),\n",
        "    tf.keras.layers.MaxPooling2D(2,2),\n",
        "    tf.keras.layers.Conv2D(128, (3,3), activation='relu'),\n",
        "    tf.keras.layers.MaxPooling2D(2,2),\n",
        "    tf.keras.layers.Conv2D(128, (3,3), activation='relu'),\n",
        "    tf.keras.layers.MaxPooling2D(2,2),\n",
        "    tf.keras.layers.Flatten(),\n",
        "    tf.keras.layers.Dense(512, activation='relu'),\n",
        "    tf.keras.layers.Dense(3, activation='softmax')\n",
        "])\n",
        "\n",
        "model_simple.summary()"
      ],
      "execution_count": null,
      "outputs": [
        {
          "output_type": "stream",
          "text": [
            "Model: \"sequential\"\n",
            "_________________________________________________________________\n",
            "Layer (type)                 Output Shape              Param #   \n",
            "=================================================================\n",
            "conv2d (Conv2D)              (None, 148, 148, 16)      448       \n",
            "_________________________________________________________________\n",
            "max_pooling2d (MaxPooling2D) (None, 74, 74, 16)        0         \n",
            "_________________________________________________________________\n",
            "conv2d_1 (Conv2D)            (None, 72, 72, 64)        9280      \n",
            "_________________________________________________________________\n",
            "max_pooling2d_1 (MaxPooling2 (None, 36, 36, 64)        0         \n",
            "_________________________________________________________________\n",
            "conv2d_2 (Conv2D)            (None, 34, 34, 128)       73856     \n",
            "_________________________________________________________________\n",
            "max_pooling2d_2 (MaxPooling2 (None, 17, 17, 128)       0         \n",
            "_________________________________________________________________\n",
            "conv2d_3 (Conv2D)            (None, 15, 15, 128)       147584    \n",
            "_________________________________________________________________\n",
            "max_pooling2d_3 (MaxPooling2 (None, 7, 7, 128)         0         \n",
            "_________________________________________________________________\n",
            "flatten (Flatten)            (None, 6272)              0         \n",
            "_________________________________________________________________\n",
            "dense (Dense)                (None, 512)               3211776   \n",
            "_________________________________________________________________\n",
            "dense_1 (Dense)              (None, 3)                 1539      \n",
            "=================================================================\n",
            "Total params: 3,444,483\n",
            "Trainable params: 3,444,483\n",
            "Non-trainable params: 0\n",
            "_________________________________________________________________\n",
            "time: 97.6 ms (started: 2021-05-16 12:57:04 +00:00)\n"
          ],
          "name": "stdout"
        }
      ]
    },
    {
      "cell_type": "markdown",
      "metadata": {
        "id": "hnGFVgH0MdcZ"
      },
      "source": [
        "# Running the Basic Model"
      ]
    },
    {
      "cell_type": "code",
      "metadata": {
        "id": "hLQe9ePwMcyP",
        "colab": {
          "base_uri": "https://localhost:8080/"
        },
        "outputId": "2c4ee6bc-bcbe-451a-ffab-7c0ad15051b4"
      },
      "source": [
        "model_simple.compile(\n",
        "    optimizer='adam', \n",
        "    loss='categorical_crossentropy', \n",
        "    metrics=['accuracy']\n",
        ")\n",
        "\n",
        "history_simple = model_simple.fit(\n",
        "    train_generator,\n",
        "    epochs=100,\n",
        "    callbacks = [reduce_lr, early_stop],\n",
        "    verbose=1,\n",
        "    validation_data=validation_generator\n",
        ")"
      ],
      "execution_count": null,
      "outputs": [
        {
          "output_type": "stream",
          "text": [
            "Epoch 1/100\n",
            "11/11 [==============================] - 43s 1s/step - loss: 1.1459 - accuracy: 0.3729 - val_loss: 0.9858 - val_accuracy: 0.5217\n",
            "Epoch 2/100\n",
            "11/11 [==============================] - 12s 1s/step - loss: 0.9329 - accuracy: 0.5925 - val_loss: 0.6459 - val_accuracy: 0.7466\n",
            "Epoch 3/100\n",
            "11/11 [==============================] - 12s 1s/step - loss: 0.6763 - accuracy: 0.7232 - val_loss: 0.3308 - val_accuracy: 0.8916\n",
            "Epoch 4/100\n",
            "11/11 [==============================] - 12s 1s/step - loss: 0.5274 - accuracy: 0.7840 - val_loss: 0.3063 - val_accuracy: 0.8916\n",
            "Epoch 5/100\n",
            "11/11 [==============================] - 12s 1s/step - loss: 0.4497 - accuracy: 0.8176 - val_loss: 0.2316 - val_accuracy: 0.9201\n",
            "Epoch 6/100\n",
            "11/11 [==============================] - 12s 1s/step - loss: 0.3245 - accuracy: 0.8940 - val_loss: 0.1808 - val_accuracy: 0.9395\n",
            "Epoch 7/100\n",
            "11/11 [==============================] - 12s 1s/step - loss: 0.3775 - accuracy: 0.8725 - val_loss: 0.3246 - val_accuracy: 0.8938\n",
            "Epoch 8/100\n",
            "11/11 [==============================] - 12s 1s/step - loss: 0.3808 - accuracy: 0.8473 - val_loss: 0.1930 - val_accuracy: 0.9418\n",
            "Epoch 9/100\n",
            "11/11 [==============================] - 12s 1s/step - loss: 0.3263 - accuracy: 0.8742 - val_loss: 0.2050 - val_accuracy: 0.9349\n",
            "Epoch 10/100\n",
            "11/11 [==============================] - 12s 1s/step - loss: 0.3152 - accuracy: 0.8920 - val_loss: 0.1628 - val_accuracy: 0.9532\n",
            "Epoch 11/100\n",
            "11/11 [==============================] - 12s 1s/step - loss: 0.2279 - accuracy: 0.9191 - val_loss: 0.1422 - val_accuracy: 0.9555\n",
            "Epoch 12/100\n",
            "11/11 [==============================] - 12s 1s/step - loss: 0.2604 - accuracy: 0.8977 - val_loss: 0.1152 - val_accuracy: 0.9635\n",
            "Epoch 13/100\n",
            "11/11 [==============================] - 12s 1s/step - loss: 0.2315 - accuracy: 0.9215 - val_loss: 0.1137 - val_accuracy: 0.9680\n",
            "Epoch 14/100\n",
            "11/11 [==============================] - 12s 1s/step - loss: 0.2225 - accuracy: 0.9276 - val_loss: 0.1088 - val_accuracy: 0.9715\n",
            "Epoch 15/100\n",
            "11/11 [==============================] - 12s 1s/step - loss: 0.1997 - accuracy: 0.9395 - val_loss: 0.1040 - val_accuracy: 0.9658\n",
            "Epoch 16/100\n",
            "11/11 [==============================] - 12s 1s/step - loss: 0.2123 - accuracy: 0.9209 - val_loss: 0.1015 - val_accuracy: 0.9726\n",
            "Epoch 17/100\n",
            "11/11 [==============================] - 12s 1s/step - loss: 0.1390 - accuracy: 0.9543 - val_loss: 0.1061 - val_accuracy: 0.9669\n",
            "Epoch 18/100\n",
            "11/11 [==============================] - 12s 1s/step - loss: 0.1403 - accuracy: 0.9469 - val_loss: 0.0754 - val_accuracy: 0.9783\n",
            "Epoch 19/100\n",
            "11/11 [==============================] - 12s 1s/step - loss: 0.1259 - accuracy: 0.9605 - val_loss: 0.0824 - val_accuracy: 0.9692\n",
            "Epoch 20/100\n",
            "11/11 [==============================] - 12s 1s/step - loss: 0.1407 - accuracy: 0.9540 - val_loss: 0.0672 - val_accuracy: 0.9783\n",
            "Epoch 21/100\n",
            "11/11 [==============================] - 12s 1s/step - loss: 0.1098 - accuracy: 0.9662 - val_loss: 0.0951 - val_accuracy: 0.9680\n",
            "Epoch 22/100\n",
            "11/11 [==============================] - 12s 1s/step - loss: 0.1224 - accuracy: 0.9592 - val_loss: 0.0479 - val_accuracy: 0.9863\n",
            "Epoch 23/100\n",
            "11/11 [==============================] - 12s 1s/step - loss: 0.0992 - accuracy: 0.9667 - val_loss: 0.1147 - val_accuracy: 0.9635\n",
            "Epoch 24/100\n",
            "11/11 [==============================] - 12s 1s/step - loss: 0.1571 - accuracy: 0.9404 - val_loss: 0.0681 - val_accuracy: 0.9772\n",
            "Epoch 25/100\n",
            "11/11 [==============================] - 12s 1s/step - loss: 0.1134 - accuracy: 0.9640 - val_loss: 0.0578 - val_accuracy: 0.9840\n",
            "Epoch 26/100\n",
            "11/11 [==============================] - 12s 1s/step - loss: 0.0775 - accuracy: 0.9724 - val_loss: 0.0423 - val_accuracy: 0.9886\n",
            "Epoch 27/100\n",
            "11/11 [==============================] - 12s 1s/step - loss: 0.0540 - accuracy: 0.9843 - val_loss: 0.0492 - val_accuracy: 0.9840\n",
            "Epoch 28/100\n",
            "11/11 [==============================] - 12s 1s/step - loss: 0.0618 - accuracy: 0.9782 - val_loss: 0.0481 - val_accuracy: 0.9863\n",
            "Epoch 29/100\n",
            "11/11 [==============================] - 12s 1s/step - loss: 0.0487 - accuracy: 0.9854 - val_loss: 0.0340 - val_accuracy: 0.9932\n",
            "Epoch 30/100\n",
            "11/11 [==============================] - 12s 1s/step - loss: 0.0761 - accuracy: 0.9748 - val_loss: 0.0229 - val_accuracy: 0.9954\n",
            "Epoch 31/100\n",
            "11/11 [==============================] - 12s 1s/step - loss: 0.0407 - accuracy: 0.9864 - val_loss: 0.0435 - val_accuracy: 0.9863\n",
            "Epoch 32/100\n",
            "11/11 [==============================] - 12s 1s/step - loss: 0.0408 - accuracy: 0.9864 - val_loss: 0.0288 - val_accuracy: 0.9920\n",
            "Epoch 33/100\n",
            "11/11 [==============================] - 12s 1s/step - loss: 0.0656 - accuracy: 0.9767 - val_loss: 0.0283 - val_accuracy: 0.9932\n",
            "Epoch 34/100\n",
            "11/11 [==============================] - 12s 1s/step - loss: 0.1637 - accuracy: 0.9409 - val_loss: 0.0481 - val_accuracy: 0.9897\n",
            "Epoch 35/100\n",
            "11/11 [==============================] - 12s 1s/step - loss: 0.0861 - accuracy: 0.9796 - val_loss: 0.0382 - val_accuracy: 0.9909\n",
            "Epoch 36/100\n",
            "11/11 [==============================] - 12s 1s/step - loss: 0.0698 - accuracy: 0.9809 - val_loss: 0.0354 - val_accuracy: 0.9920\n",
            "Epoch 37/100\n",
            "11/11 [==============================] - 12s 1s/step - loss: 0.0494 - accuracy: 0.9841 - val_loss: 0.0299 - val_accuracy: 0.9954\n",
            "Epoch 38/100\n",
            "11/11 [==============================] - 12s 1s/step - loss: 0.0446 - accuracy: 0.9854 - val_loss: 0.0265 - val_accuracy: 0.9943\n",
            "Epoch 39/100\n",
            "11/11 [==============================] - 12s 1s/step - loss: 0.0498 - accuracy: 0.9851 - val_loss: 0.0261 - val_accuracy: 0.9954\n",
            "Epoch 40/100\n",
            "11/11 [==============================] - 12s 1s/step - loss: 0.0551 - accuracy: 0.9870 - val_loss: 0.0294 - val_accuracy: 0.9932\n",
            "Epoch 41/100\n",
            "11/11 [==============================] - 12s 1s/step - loss: 0.0380 - accuracy: 0.9846 - val_loss: 0.0280 - val_accuracy: 0.9954\n",
            "Epoch 42/100\n",
            "11/11 [==============================] - 12s 1s/step - loss: 0.0254 - accuracy: 0.9927 - val_loss: 0.0253 - val_accuracy: 0.9966\n",
            "time: 8min 48s (started: 2021-05-16 12:42:52 +00:00)\n"
          ],
          "name": "stdout"
        }
      ]
    },
    {
      "cell_type": "markdown",
      "metadata": {
        "id": "AA5yOHjhMk_K"
      },
      "source": [
        "# Visualize the History of Basic Model"
      ]
    },
    {
      "cell_type": "code",
      "metadata": {
        "id": "vYwur4xIMnrJ",
        "colab": {
          "base_uri": "https://localhost:8080/",
          "height": 348
        },
        "outputId": "85c873e6-8898-4e75-eaab-f7380bc04bd6"
      },
      "source": [
        "plot_history(history_simple)"
      ],
      "execution_count": null,
      "outputs": [
        {
          "output_type": "display_data",
          "data": {
            "image/png": "[encoded data removed]",
            "text/plain": [
              "<Figure size 1080x360 with 2 Axes>"
            ]
          },
          "metadata": {
            "tags": []
          }
        },
        {
          "output_type": "stream",
          "text": [
            "time: 438 ms (started: 2021-05-16 12:51:40 +00:00)\n"
          ],
          "name": "stdout"
        }
      ]
    },
    {
      "cell_type": "markdown",
      "metadata": {
        "id": "m_VJrf_GIBe9"
      },
      "source": [
        "# Evaluate the Basic Model"
      ]
    },
    {
      "cell_type": "code",
      "metadata": {
        "colab": {
          "base_uri": "https://localhost:8080/"
        },
        "id": "T_Suc7OvIDKi",
        "outputId": "a0cc5323-d382-4da2-c2d7-7d7c49709782"
      },
      "source": [
        "validation_generator = validation_datagen.flow_from_directory(\n",
        "    VALIDATION_DIR,\n",
        "    batch_size=159,\n",
        "    class_mode='categorical',\n",
        "    target_size=(150, 150),\n",
        "    shuffle = False\n",
        ")\n",
        "\n",
        "filenames = validation_generator.filenames\n",
        "nb_samples = len(filenames)\n",
        "\n",
        "Y_pred = model_simple.predict_generator(validation_generator, steps = nb_samples)\n",
        "y_pred = np.argmax(Y_pred, axis=1)\n",
        "\n",
        "print('Confusion Matrix')\n",
        "print(confusion_matrix(validation_generator.classes, y_pred))\n",
        "\n",
        "print('Classification Report')\n",
        "target_names = ['Rock', 'Paper', 'Scissors']\n",
        "print(classification_report(validation_generator.classes, y_pred, target_names=target_names))"
      ],
      "execution_count": null,
      "outputs": [
        {
          "output_type": "stream",
          "text": [
            "Found 876 images belonging to 3 classes.\n",
            "WARNING:tensorflow:Your input ran out of data; interrupting training. Make sure that your dataset or generator can generate at least `steps_per_epoch * epochs` batches (in this case, 876 batches). You may need to use the repeat() function when building your dataset.\n",
            "Confusion Matrix\n",
            "[[283   2   0]\n",
            " [  0 291   0]\n",
            " [  2   0 298]]\n",
            "Classification Report\n",
            "              precision    recall  f1-score   support\n",
            "\n",
            "        Rock       0.99      0.99      0.99       285\n",
            "       Paper       0.99      1.00      1.00       291\n",
            "    Scissors       1.00      0.99      1.00       300\n",
            "\n",
            "    accuracy                           1.00       876\n",
            "   macro avg       1.00      1.00      1.00       876\n",
            "weighted avg       1.00      1.00      1.00       876\n",
            "\n",
            "time: 4.13 s (started: 2021-05-16 12:51:43 +00:00)\n"
          ],
          "name": "stdout"
        }
      ]
    },
    {
      "cell_type": "markdown",
      "metadata": {
        "id": "5ZiYH-SVM82O"
      },
      "source": [
        "# Save the Basic Model for Deployment"
      ]
    },
    {
      "cell_type": "code",
      "metadata": {
        "colab": {
          "base_uri": "https://localhost:8080/"
        },
        "id": "hMpGwhiBM82Y",
        "outputId": "3a49d417-899e-4a63-e564-3d340e057619"
      },
      "source": [
        "model_simple.save_weights('model_simple_weights.h5')\n",
        "model_simple.save('model_simple.h5')"
      ],
      "execution_count": null,
      "outputs": [
        {
          "output_type": "stream",
          "text": [
            "time: 120 ms (started: 2021-05-16 12:51:57 +00:00)\n"
          ],
          "name": "stdout"
        }
      ]
    },
    {
      "cell_type": "markdown",
      "metadata": {
        "id": "IQvdUSNMCell"
      },
      "source": [
        "# Improve the Model Using Transfer Learning (InceptionV3)"
      ]
    },
    {
      "cell_type": "code",
      "metadata": {
        "colab": {
          "base_uri": "https://localhost:8080/"
        },
        "id": "f1DLNbrwfGLw",
        "outputId": "1320e6f1-4f9e-47d9-99a1-a3b47b02f8fd"
      },
      "source": [
        "tf.keras.backend.clear_session()\n",
        "\n",
        "model_inception = tf.keras.models.Sequential([\n",
        "    InceptionV3(weights = \"imagenet\", include_top = False, input_shape = (150, 150, 3)),\n",
        "    tf.keras.layers.Flatten(),\n",
        "    tf.keras.layers.Dense(512, activation='relu'),\n",
        "    tf.keras.layers.Dense(3, activation='softmax')\n",
        "])\n",
        "\n",
        "model_inception.layers[0].trainable = False\n",
        "\n",
        "model_inception.summary()"
      ],
      "execution_count": null,
      "outputs": [
        {
          "output_type": "stream",
          "text": [
            "Model: \"sequential\"\n",
            "_________________________________________________________________\n",
            "Layer (type)                 Output Shape              Param #   \n",
            "=================================================================\n",
            "inception_v3 (Functional)    (None, 3, 3, 2048)        21802784  \n",
            "_________________________________________________________________\n",
            "flatten (Flatten)            (None, 18432)             0         \n",
            "_________________________________________________________________\n",
            "dense (Dense)                (None, 512)               9437696   \n",
            "_________________________________________________________________\n",
            "dense_1 (Dense)              (None, 3)                 1539      \n",
            "=================================================================\n",
            "Total params: 31,242,019\n",
            "Trainable params: 9,439,235\n",
            "Non-trainable params: 21,802,784\n",
            "_________________________________________________________________\n",
            "time: 3.1 s (started: 2021-05-16 12:59:26 +00:00)\n"
          ],
          "name": "stdout"
        }
      ]
    },
    {
      "cell_type": "markdown",
      "metadata": {
        "id": "2R-OYiadEryV"
      },
      "source": [
        "# Running the Transfer Learning Model Using InceptionV3"
      ]
    },
    {
      "cell_type": "code",
      "metadata": {
        "colab": {
          "base_uri": "https://localhost:8080/"
        },
        "id": "FtkZGqwsfcbZ",
        "outputId": "80b27eec-767d-4ee2-e893-01a0d679e2f6"
      },
      "source": [
        "model_inception.compile(\n",
        "    optimizer = 'adam', \n",
        "    loss = 'categorical_crossentropy', \n",
        "    metrics = ['accuracy']\n",
        ")\n",
        "\n",
        "history_inception = model_inception.fit(\n",
        "    train_generator,\n",
        "    epochs=100,\n",
        "    callbacks = [reduce_lr, early_stop],\n",
        "    verbose=1,\n",
        "    validation_data=validation_generator\n",
        ")"
      ],
      "execution_count": null,
      "outputs": [
        {
          "output_type": "stream",
          "text": [
            "Epoch 1/100\n",
            "11/11 [==============================] - 19s 1s/step - loss: 12.3144 - accuracy: 0.5356 - val_loss: 1.2121 - val_accuracy: 0.8242\n",
            "Epoch 2/100\n",
            "11/11 [==============================] - 13s 1s/step - loss: 1.2271 - accuracy: 0.8707 - val_loss: 0.3325 - val_accuracy: 0.9509\n",
            "Epoch 3/100\n",
            "11/11 [==============================] - 13s 1s/step - loss: 0.8967 - accuracy: 0.9063 - val_loss: 0.1980 - val_accuracy: 0.9658\n",
            "Epoch 4/100\n",
            "11/11 [==============================] - 13s 1s/step - loss: 0.2884 - accuracy: 0.9509 - val_loss: 0.1071 - val_accuracy: 0.9783\n",
            "Epoch 5/100\n",
            "11/11 [==============================] - 13s 1s/step - loss: 0.1261 - accuracy: 0.9684 - val_loss: 0.0585 - val_accuracy: 0.9874\n",
            "Epoch 6/100\n",
            "11/11 [==============================] - 13s 1s/step - loss: 0.1229 - accuracy: 0.9713 - val_loss: 0.0482 - val_accuracy: 0.9886\n",
            "Epoch 7/100\n",
            "11/11 [==============================] - 13s 1s/step - loss: 0.1045 - accuracy: 0.9751 - val_loss: 0.0487 - val_accuracy: 0.9874\n",
            "Epoch 8/100\n",
            "11/11 [==============================] - 13s 1s/step - loss: 0.1601 - accuracy: 0.9585 - val_loss: 0.0297 - val_accuracy: 0.9909\n",
            "Epoch 9/100\n",
            "11/11 [==============================] - 13s 1s/step - loss: 0.1206 - accuracy: 0.9677 - val_loss: 0.0441 - val_accuracy: 0.9840\n",
            "Epoch 10/100\n",
            "11/11 [==============================] - 13s 1s/step - loss: 0.1377 - accuracy: 0.9786 - val_loss: 0.0253 - val_accuracy: 0.9909\n",
            "Epoch 11/100\n",
            "11/11 [==============================] - 13s 1s/step - loss: 0.0822 - accuracy: 0.9769 - val_loss: 0.0252 - val_accuracy: 0.9909\n",
            "Epoch 12/100\n",
            "11/11 [==============================] - 13s 1s/step - loss: 0.0748 - accuracy: 0.9779 - val_loss: 0.0445 - val_accuracy: 0.9852\n",
            "Epoch 13/100\n",
            "11/11 [==============================] - 13s 1s/step - loss: 0.0986 - accuracy: 0.9701 - val_loss: 0.0209 - val_accuracy: 0.9909\n",
            "Epoch 14/100\n",
            "11/11 [==============================] - 13s 1s/step - loss: 0.0991 - accuracy: 0.9762 - val_loss: 0.0224 - val_accuracy: 0.9954\n",
            "Epoch 15/100\n",
            "11/11 [==============================] - 13s 1s/step - loss: 0.0619 - accuracy: 0.9775 - val_loss: 0.0239 - val_accuracy: 0.9909\n",
            "Epoch 16/100\n",
            "11/11 [==============================] - 13s 1s/step - loss: 0.1360 - accuracy: 0.9637 - val_loss: 0.0691 - val_accuracy: 0.9795\n",
            "Epoch 17/100\n",
            "11/11 [==============================] - 13s 1s/step - loss: 0.1288 - accuracy: 0.9664 - val_loss: 0.0654 - val_accuracy: 0.9863\n",
            "Epoch 18/100\n",
            "11/11 [==============================] - 13s 1s/step - loss: 0.0845 - accuracy: 0.9802 - val_loss: 0.0339 - val_accuracy: 0.9909\n",
            "Epoch 19/100\n",
            "11/11 [==============================] - 13s 1s/step - loss: 0.0493 - accuracy: 0.9817 - val_loss: 0.0322 - val_accuracy: 0.9909\n",
            "Epoch 20/100\n",
            "11/11 [==============================] - 13s 1s/step - loss: 0.0241 - accuracy: 0.9935 - val_loss: 0.0317 - val_accuracy: 0.9886\n",
            "Epoch 21/100\n",
            "11/11 [==============================] - 13s 1s/step - loss: 0.0641 - accuracy: 0.9812 - val_loss: 0.0261 - val_accuracy: 0.9920\n",
            "Epoch 22/100\n",
            "11/11 [==============================] - 13s 1s/step - loss: 0.0226 - accuracy: 0.9935 - val_loss: 0.0247 - val_accuracy: 0.9932\n",
            "Epoch 23/100\n",
            "11/11 [==============================] - 13s 1s/step - loss: 0.0261 - accuracy: 0.9887 - val_loss: 0.0206 - val_accuracy: 0.9954\n",
            "Epoch 24/100\n",
            "11/11 [==============================] - 13s 1s/step - loss: 0.0820 - accuracy: 0.9801 - val_loss: 0.0213 - val_accuracy: 0.9954\n",
            "Epoch 25/100\n",
            "11/11 [==============================] - 13s 1s/step - loss: 0.0309 - accuracy: 0.9911 - val_loss: 0.0204 - val_accuracy: 0.9966\n",
            "Epoch 26/100\n",
            "11/11 [==============================] - 13s 1s/step - loss: 0.0630 - accuracy: 0.9861 - val_loss: 0.0207 - val_accuracy: 0.9954\n",
            "Epoch 27/100\n",
            "11/11 [==============================] - 13s 1s/step - loss: 0.0451 - accuracy: 0.9851 - val_loss: 0.0250 - val_accuracy: 0.9909\n",
            "Epoch 28/100\n",
            "11/11 [==============================] - 13s 1s/step - loss: 0.0264 - accuracy: 0.9891 - val_loss: 0.0170 - val_accuracy: 0.9954\n",
            "Epoch 29/100\n",
            "11/11 [==============================] - 13s 1s/step - loss: 0.0178 - accuracy: 0.9940 - val_loss: 0.0171 - val_accuracy: 0.9966\n",
            "Epoch 30/100\n",
            "11/11 [==============================] - 13s 1s/step - loss: 0.0184 - accuracy: 0.9931 - val_loss: 0.0159 - val_accuracy: 0.9954\n",
            "Epoch 31/100\n",
            "11/11 [==============================] - 13s 1s/step - loss: 0.0286 - accuracy: 0.9877 - val_loss: 0.0207 - val_accuracy: 0.9954\n",
            "Epoch 32/100\n",
            "11/11 [==============================] - 13s 1s/step - loss: 0.0434 - accuracy: 0.9910 - val_loss: 0.0210 - val_accuracy: 0.9943\n",
            "Epoch 33/100\n",
            "11/11 [==============================] - 13s 1s/step - loss: 0.0125 - accuracy: 0.9984 - val_loss: 0.0149 - val_accuracy: 0.9966\n",
            "Epoch 34/100\n",
            "11/11 [==============================] - 13s 1s/step - loss: 0.0182 - accuracy: 0.9914 - val_loss: 0.0163 - val_accuracy: 0.9966\n",
            "Epoch 35/100\n",
            "11/11 [==============================] - 13s 1s/step - loss: 0.0247 - accuracy: 0.9901 - val_loss: 0.0225 - val_accuracy: 0.9943\n",
            "Epoch 36/100\n",
            "11/11 [==============================] - 13s 1s/step - loss: 0.0167 - accuracy: 0.9927 - val_loss: 0.0145 - val_accuracy: 0.9977\n",
            "Epoch 37/100\n",
            "11/11 [==============================] - 13s 1s/step - loss: 0.0281 - accuracy: 0.9911 - val_loss: 0.0156 - val_accuracy: 0.9977\n",
            "Epoch 38/100\n",
            "11/11 [==============================] - 13s 1s/step - loss: 0.0320 - accuracy: 0.9928 - val_loss: 0.0183 - val_accuracy: 0.9943\n",
            "Epoch 39/100\n",
            "11/11 [==============================] - 13s 1s/step - loss: 0.0239 - accuracy: 0.9907 - val_loss: 0.0218 - val_accuracy: 0.9943\n",
            "Epoch 40/100\n",
            "11/11 [==============================] - 13s 1s/step - loss: 0.0302 - accuracy: 0.9907 - val_loss: 0.0148 - val_accuracy: 0.9943\n",
            "Epoch 41/100\n",
            "11/11 [==============================] - 13s 1s/step - loss: 0.0238 - accuracy: 0.9939 - val_loss: 0.0158 - val_accuracy: 0.9966\n",
            "Epoch 42/100\n",
            "11/11 [==============================] - 13s 1s/step - loss: 0.0143 - accuracy: 0.9967 - val_loss: 0.0153 - val_accuracy: 0.9966\n",
            "Epoch 43/100\n",
            "11/11 [==============================] - 13s 1s/step - loss: 0.0254 - accuracy: 0.9907 - val_loss: 0.0155 - val_accuracy: 0.9966\n",
            "Epoch 44/100\n",
            "11/11 [==============================] - 13s 1s/step - loss: 0.0156 - accuracy: 0.9950 - val_loss: 0.0170 - val_accuracy: 0.9966\n",
            "Epoch 45/100\n",
            "11/11 [==============================] - 13s 1s/step - loss: 0.0523 - accuracy: 0.9848 - val_loss: 0.0182 - val_accuracy: 0.9954\n",
            "Epoch 46/100\n",
            "11/11 [==============================] - 13s 1s/step - loss: 0.0103 - accuracy: 0.9968 - val_loss: 0.0172 - val_accuracy: 0.9966\n",
            "Epoch 47/100\n",
            "11/11 [==============================] - 13s 1s/step - loss: 0.0121 - accuracy: 0.9970 - val_loss: 0.0161 - val_accuracy: 0.9977\n",
            "Epoch 48/100\n",
            "11/11 [==============================] - 13s 1s/step - loss: 0.0122 - accuracy: 0.9955 - val_loss: 0.0156 - val_accuracy: 0.9966\n",
            "time: 10min 25s (started: 2021-05-16 12:59:30 +00:00)\n"
          ],
          "name": "stdout"
        }
      ]
    },
    {
      "cell_type": "markdown",
      "metadata": {
        "id": "VeQLTCnsQPMs"
      },
      "source": [
        "# Visualize the Transfer Learning Model"
      ]
    },
    {
      "cell_type": "code",
      "metadata": {
        "id": "0irvpVWDQRmF",
        "colab": {
          "base_uri": "https://localhost:8080/",
          "height": 348
        },
        "outputId": "edb2dc0e-d070-4073-9b97-95894746793c"
      },
      "source": [
        "plot_history(history_inception)"
      ],
      "execution_count": null,
      "outputs": [
        {
          "output_type": "display_data",
          "data": {
            "image/png": "[encoded data removed]",
            "text/plain": [
              "<Figure size 1080x360 with 2 Axes>"
            ]
          },
          "metadata": {
            "tags": []
          }
        },
        {
          "output_type": "stream",
          "text": [
            "time: 426 ms (started: 2021-05-16 13:09:56 +00:00)\n"
          ],
          "name": "stdout"
        }
      ]
    },
    {
      "cell_type": "markdown",
      "metadata": {
        "id": "9O_Y9VFZF7Hc"
      },
      "source": [
        "# Evaluate the Transfer Learning Model"
      ]
    },
    {
      "cell_type": "code",
      "metadata": {
        "colab": {
          "base_uri": "https://localhost:8080/"
        },
        "id": "sngW3Ppefe5r",
        "outputId": "b309f531-ac2a-4020-f472-89be439cd4a7"
      },
      "source": [
        "validation_generator = validation_datagen.flow_from_directory(\n",
        "    VALIDATION_DIR,\n",
        "    batch_size=159,\n",
        "    class_mode='categorical',\n",
        "    target_size=(150, 150),\n",
        "    shuffle = False\n",
        ")\n",
        "\n",
        "filenames = validation_generator.filenames\n",
        "nb_samples = len(filenames)\n",
        "\n",
        "Y_pred = model_inception.predict_generator(validation_generator, steps = nb_samples)\n",
        "y_pred = np.argmax(Y_pred, axis=1)\n",
        "\n",
        "print('Confusion Matrix')\n",
        "print(confusion_matrix(validation_generator.classes, y_pred))\n",
        "\n",
        "print('Classification Report')\n",
        "target_names = ['Rock', 'Paper', 'Scissors']\n",
        "print(classification_report(validation_generator.classes, y_pred, target_names=target_names))"
      ],
      "execution_count": null,
      "outputs": [
        {
          "output_type": "stream",
          "text": [
            "Found 876 images belonging to 3 classes.\n",
            "WARNING:tensorflow:Your input ran out of data; interrupting training. Make sure that your dataset or generator can generate at least `steps_per_epoch * epochs` batches (in this case, 876 batches). You may need to use the repeat() function when building your dataset.\n",
            "Confusion Matrix\n",
            "[[284   0   1]\n",
            " [  1 290   0]\n",
            " [  0   0 300]]\n",
            "Classification Report\n",
            "              precision    recall  f1-score   support\n",
            "\n",
            "        Rock       1.00      1.00      1.00       285\n",
            "       Paper       1.00      1.00      1.00       291\n",
            "    Scissors       1.00      1.00      1.00       300\n",
            "\n",
            "    accuracy                           1.00       876\n",
            "   macro avg       1.00      1.00      1.00       876\n",
            "weighted avg       1.00      1.00      1.00       876\n",
            "\n",
            "time: 4.07 s (started: 2021-05-16 13:09:57 +00:00)\n"
          ],
          "name": "stdout"
        }
      ]
    },
    {
      "cell_type": "markdown",
      "metadata": {
        "id": "9CfUjlmGF-qP"
      },
      "source": [
        "# Save the Transfer Learning Model for Deployment"
      ]
    },
    {
      "cell_type": "code",
      "metadata": {
        "id": "6pVwbddWWwNC",
        "colab": {
          "base_uri": "https://localhost:8080/"
        },
        "outputId": "8989e9aa-7b4f-409f-8024-27c6ec28dd21"
      },
      "source": [
        "model_inception.save_weights('model_inception_weights.h5')\n",
        "model_inception.save('model_inception.h5')"
      ],
      "execution_count": null,
      "outputs": [
        {
          "output_type": "stream",
          "text": [
            "time: 1.33 s (started: 2021-05-16 13:10:03 +00:00)\n"
          ],
          "name": "stdout"
        }
      ]
    },
    {
      "cell_type": "markdown",
      "metadata": {
        "id": "7MO0ogEhGBkL"
      },
      "source": [
        "# Make Function for Predict Other Images"
      ]
    },
    {
      "cell_type": "code",
      "metadata": {
        "id": "zLUY6pfCFUrO",
        "colab": {
          "base_uri": "https://localhost:8080/"
        },
        "outputId": "1530d7f6-6f74-4f4c-b153-33874392f506"
      },
      "source": [
        "def predict_image(image_upload, model = model_inception):\n",
        "  im = image_upload\n",
        "  im_array = np.asarray(im)\n",
        "  im_array = im_array*(1/225)\n",
        "  im_input = tf.reshape(im_array, shape = [1, 150, 150, 3])\n",
        "\n",
        "  predict_array = model.predict(im_input)[0]\n",
        "\n",
        "  import pandas as pd\n",
        "  df = pd.DataFrame(predict_array)\n",
        "  df = df.rename({0:'Probability'}, axis = 'columns')\n",
        "  prod = ['Paper', 'Rock', 'Scissors']\n",
        "  df['Product'] = prod\n",
        "  df = df[['Product', 'Probability']]\n",
        "\n",
        "  predict_label = np.argmax(model.predict(im_input))\n",
        "\n",
        "  if predict_label == 0:\n",
        "      predict_product = 'Paper'\n",
        "  elif predict_label == 1:\n",
        "      predict_product = 'Rock'\n",
        "  else:\n",
        "      predict_product = 'Scissor'\n",
        "\n",
        "  return predict_product, df"
      ],
      "execution_count": null,
      "outputs": [
        {
          "output_type": "stream",
          "text": [
            "time: 11.8 ms (started: 2021-05-16 13:10:24 +00:00)\n"
          ],
          "name": "stdout"
        }
      ]
    },
    {
      "cell_type": "markdown",
      "metadata": {
        "id": "lCq-6HINPKor"
      },
      "source": [
        "# Predict Image"
      ]
    },
    {
      "cell_type": "code",
      "metadata": {
        "colab": {
          "resources": {
            "http://localhost:8080/nbextensions/google.colab/files.js": {
              "data": "Ly8gQ29weXJpZ2h0IDIwMTcgR29vZ2xlIExMQwovLwovLyBMaWNlbnNlZCB1bmRlciB0aGUgQXBhY2hlIExpY2Vuc2UsIFZlcnNpb24gMi4wICh0aGUgIkxpY2Vuc2UiKTsKLy8geW91IG1heSBub3QgdXNlIHRoaXMgZmlsZSBleGNlcHQgaW4gY29tcGxpYW5jZSB3aXRoIHRoZSBMaWNlbnNlLgovLyBZb3UgbWF5IG9idGFpbiBhIGNvcHkgb2YgdGhlIExpY2Vuc2UgYXQKLy8KLy8gICAgICBodHRwOi8vd3d3LmFwYWNoZS5vcmcvbGljZW5zZXMvTElDRU5TRS0yLjAKLy8KLy8gVW5sZXNzIHJlcXVpcmVkIGJ5IGFwcGxpY2FibGUgbGF3IG9yIGFncmVlZCB0byBpbiB3cml0aW5nLCBzb2Z0d2FyZQovLyBkaXN0cmlidXRlZCB1bmRlciB0aGUgTGljZW5zZSBpcyBkaXN0cmlidXRlZCBvbiBhbiAiQVMgSVMiIEJBU0lTLAovLyBXSVRIT1VUIFdBUlJBTlRJRVMgT1IgQ09ORElUSU9OUyBPRiBBTlkgS0lORCwgZWl0aGVyIGV4cHJlc3Mgb3IgaW1wbGllZC4KLy8gU2VlIHRoZSBMaWNlbnNlIGZvciB0aGUgc3BlY2lmaWMgbGFuZ3VhZ2UgZ292ZXJuaW5nIHBlcm1pc3Npb25zIGFuZAovLyBsaW1pdGF0aW9ucyB1bmRlciB0aGUgTGljZW5zZS4KCi8qKgogKiBAZmlsZW92ZXJ2aWV3IEhlbHBlcnMgZm9yIGdvb2dsZS5jb2xhYiBQeXRob24gbW9kdWxlLgogKi8KKGZ1bmN0aW9uKHNjb3BlKSB7CmZ1bmN0aW9uIHNwYW4odGV4dCwgc3R5bGVBdHRyaWJ1dGVzID0ge30pIHsKICBjb25zdCBlbGVtZW50ID0gZG9jdW1lbnQuY3JlYXRlRWxlbWVudCgnc3BhbicpOwogIGVsZW1lbnQudGV4dENvbnRlbnQgPSB0ZXh0OwogIGZvciAoY29uc3Qga2V5IG9mIE9iamVjdC5rZXlzKHN0eWxlQXR0cmlidXRlcykpIHsKICAgIGVsZW1lbnQuc3R5bGVba2V5XSA9IHN0eWxlQXR0cmlidXRlc1trZXldOwogIH0KICByZXR1cm4gZWxlbWVudDsKfQoKLy8gTWF4IG51bWJlciBvZiBieXRlcyB3aGljaCB3aWxsIGJlIHVwbG9hZGVkIGF0IGEgdGltZS4KY29uc3QgTUFYX1BBWUxPQURfU0laRSA9IDEwMCAqIDEwMjQ7CgpmdW5jdGlvbiBfdXBsb2FkRmlsZXMoaW5wdXRJZCwgb3V0cHV0SWQpIHsKICBjb25zdCBzdGVwcyA9IHVwbG9hZEZpbGVzU3RlcChpbnB1dElkLCBvdXRwdXRJZCk7CiAgY29uc3Qgb3V0cHV0RWxlbWVudCA9IGRvY3VtZW50LmdldEVsZW1lbnRCeUlkKG91dHB1dElkKTsKICAvLyBDYWNoZSBzdGVwcyBvbiB0aGUgb3V0cHV0RWxlbWVudCB0byBtYWtlIGl0IGF2YWlsYWJsZSBmb3IgdGhlIG5leHQgY2FsbAogIC8vIHRvIHVwbG9hZEZpbGVzQ29udGludWUgZnJvbSBQeXRob24uCiAgb3V0cHV0RWxlbWVudC5zdGVwcyA9IHN0ZXBzOwoKICByZXR1cm4gX3VwbG9hZEZpbGVzQ29udGludWUob3V0cHV0SWQpOwp9CgovLyBUaGlzIGlzIHJvdWdobHkgYW4gYXN5bmMgZ2VuZXJhdG9yIChub3Qgc3VwcG9ydGVkIGluIHRoZSBicm93c2VyIHlldCksCi8vIHdoZXJlIHRoZXJlIGFyZSBtdWx0aXBsZSBhc3luY2hyb25vdXMgc3RlcHMgYW5kIHRoZSBQeXRob24gc2lkZSBpcyBnb2luZwovLyB0byBwb2xsIGZvciBjb21wbGV0aW9uIG9mIGVhY2ggc3RlcC4KLy8gVGhpcyB1c2VzIGEgUHJvbWlzZSB0byBibG9jayB0aGUgcHl0aG9uIHNpZGUgb24gY29tcGxldGlvbiBvZiBlYWNoIHN0ZXAsCi8vIHRoZW4gcGFzc2VzIHRoZSByZXN1bHQgb2YgdGhlIHByZXZpb3VzIHN0ZXAgYXMgdGhlIGlucHV0IHRvIHRoZSBuZXh0IHN0ZXAuCmZ1bmN0aW9uIF91cGxvYWRGaWxlc0NvbnRpbnVlKG91dHB1dElkKSB7CiAgY29uc3Qgb3V0cHV0RWxlbWVudCA9IGRvY3VtZW50LmdldEVsZW1lbnRCeUlkKG91dHB1dElkKTsKICBjb25zdCBzdGVwcyA9IG91dHB1dEVsZW1lbnQuc3RlcHM7CgogIGNvbnN0IG5leHQgPSBzdGVwcy5uZXh0KG91dHB1dEVsZW1lbnQubGFzdFByb21pc2VWYWx1ZSk7CiAgcmV0dXJuIFByb21pc2UucmVzb2x2ZShuZXh0LnZhbHVlLnByb21pc2UpLnRoZW4oKHZhbHVlKSA9PiB7CiAgICAvLyBDYWNoZSB0aGUgbGFzdCBwcm9taXNlIHZhbHVlIHRvIG1ha2UgaXQgYXZhaWxhYmxlIHRvIHRoZSBuZXh0CiAgICAvLyBzdGVwIG9mIHRoZSBnZW5lcmF0b3IuCiAgICBvdXRwdXRFbGVtZW50Lmxhc3RQcm9taXNlVmFsdWUgPSB2YWx1ZTsKICAgIHJldHVybiBuZXh0LnZhbHVlLnJlc3BvbnNlOwogIH0pOwp9CgovKioKICogR2VuZXJhdG9yIGZ1bmN0aW9uIHdoaWNoIGlzIGNhbGxlZCBiZXR3ZWVuIGVhY2ggYXN5bmMgc3RlcCBvZiB0aGUgdXBsb2FkCiAqIHByb2Nlc3MuCiAqIEBwYXJhbSB7c3RyaW5nfSBpbnB1dElkIEVsZW1lbnQgSUQgb2YgdGhlIGlucHV0IGZpbGUgcGlja2VyIGVsZW1lbnQuCiAqIEBwYXJhbSB7c3RyaW5nfSBvdXRwdXRJZCBFbGVtZW50IElEIG9mIHRoZSBvdXRwdXQgZGlzcGxheS4KICogQHJldHVybiB7IUl0ZXJhYmxlPCFPYmplY3Q+fSBJdGVyYWJsZSBvZiBuZXh0IHN0ZXBzLgogKi8KZnVuY3Rpb24qIHVwbG9hZEZpbGVzU3RlcChpbnB1dElkLCBvdXRwdXRJZCkgewogIGNvbnN0IGlucHV0RWxlbWVudCA9IGRvY3VtZW50LmdldEVsZW1lbnRCeUlkKGlucHV0SWQpOwogIGlucHV0RWxlbWVudC5kaXNhYmxlZCA9IGZhbHNlOwoKICBjb25zdCBvdXRwdXRFbGVtZW50ID0gZG9jdW1lbnQuZ2V0RWxlbWVudEJ5SWQob3V0cHV0SWQpOwogIG91dHB1dEVsZW1lbnQuaW5uZXJIVE1MID0gJyc7CgogIGNvbnN0IHBpY2tlZFByb21pc2UgPSBuZXcgUHJvbWlzZSgocmVzb2x2ZSkgPT4gewogICAgaW5wdXRFbGVtZW50LmFkZEV2ZW50TGlzdGVuZXIoJ2NoYW5nZScsIChlKSA9PiB7CiAgICAgIHJlc29sdmUoZS50YXJnZXQuZmlsZXMpOwogICAgfSk7CiAgfSk7CgogIGNvbnN0IGNhbmNlbCA9IGRvY3VtZW50LmNyZWF0ZUVsZW1lbnQoJ2J1dHRvbicpOwogIGlucHV0RWxlbWVudC5wYXJlbnRFbGVtZW50LmFwcGVuZENoaWxkKGNhbmNlbCk7CiAgY2FuY2VsLnRleHRDb250ZW50ID0gJ0NhbmNlbCB1cGxvYWQnOwogIGNvbnN0IGNhbmNlbFByb21pc2UgPSBuZXcgUHJvbWlzZSgocmVzb2x2ZSkgPT4gewogICAgY2FuY2VsLm9uY2xpY2sgPSAoKSA9PiB7CiAgICAgIHJlc29sdmUobnVsbCk7CiAgICB9OwogIH0pOwoKICAvLyBXYWl0IGZvciB0aGUgdXNlciB0byBwaWNrIHRoZSBmaWxlcy4KICBjb25zdCBmaWxlcyA9IHlpZWxkIHsKICAgIHByb21pc2U6IFByb21pc2UucmFjZShbcGlja2VkUHJvbWlzZSwgY2FuY2VsUHJvbWlzZV0pLAogICAgcmVzcG9uc2U6IHsKICAgICAgYWN0aW9uOiAnc3RhcnRpbmcnLAogICAgfQogIH07CgogIGNhbmNlbC5yZW1vdmUoKTsKCiAgLy8gRGlzYWJsZSB0aGUgaW5wdXQgZWxlbWVudCBzaW5jZSBmdXJ0aGVyIHBpY2tzIGFyZSBub3QgYWxsb3dlZC4KICBpbnB1dEVsZW1lbnQuZGlzYWJsZWQgPSB0cnVlOwoKICBpZiAoIWZpbGVzKSB7CiAgICByZXR1cm4gewogICAgICByZXNwb25zZTogewogICAgICAgIGFjdGlvbjogJ2NvbXBsZXRlJywKICAgICAgfQogICAgfTsKICB9CgogIGZvciAoY29uc3QgZmlsZSBvZiBmaWxlcykgewogICAgY29uc3QgbGkgPSBkb2N1bWVudC5jcmVhdGVFbGVtZW50KCdsaScpOwogICAgbGkuYXBwZW5kKHNwYW4oZmlsZS5uYW1lLCB7Zm9udFdlaWdodDogJ2JvbGQnfSkpOwogICAgbGkuYXBwZW5kKHNwYW4oCiAgICAgICAgYCgke2ZpbGUudHlwZSB8fCAnbi9hJ30pIC0gJHtmaWxlLnNpemV9IGJ5dGVzLCBgICsKICAgICAgICBgbGFzdCBtb2RpZmllZDogJHsKICAgICAgICAgICAgZmlsZS5sYXN0TW9kaWZpZWREYXRlID8gZmlsZS5sYXN0TW9kaWZpZWREYXRlLnRvTG9jYWxlRGF0ZVN0cmluZygpIDoKICAgICAgICAgICAgICAgICAgICAgICAgICAgICAgICAgICAgJ24vYSd9IC0gYCkpOwogICAgY29uc3QgcGVyY2VudCA9IHNwYW4oJzAlIGRvbmUnKTsKICAgIGxpLmFwcGVuZENoaWxkKHBlcmNlbnQpOwoKICAgIG91dHB1dEVsZW1lbnQuYXBwZW5kQ2hpbGQobGkpOwoKICAgIGNvbnN0IGZpbGVEYXRhUHJvbWlzZSA9IG5ldyBQcm9taXNlKChyZXNvbHZlKSA9PiB7CiAgICAgIGNvbnN0IHJlYWRlciA9IG5ldyBGaWxlUmVhZGVyKCk7CiAgICAgIHJlYWRlci5vbmxvYWQgPSAoZSkgPT4gewogICAgICAgIHJlc29sdmUoZS50YXJnZXQucmVzdWx0KTsKICAgICAgfTsKICAgICAgcmVhZGVyLnJlYWRBc0FycmF5QnVmZmVyKGZpbGUpOwogICAgfSk7CiAgICAvLyBXYWl0IGZvciB0aGUgZGF0YSB0byBiZSByZWFkeS4KICAgIGxldCBmaWxlRGF0YSA9IHlpZWxkIHsKICAgICAgcHJvbWlzZTogZmlsZURhdGFQcm9taXNlLAogICAgICByZXNwb25zZTogewogICAgICAgIGFjdGlvbjogJ2NvbnRpbnVlJywKICAgICAgfQogICAgfTsKCiAgICAvLyBVc2UgYSBjaHVua2VkIHNlbmRpbmcgdG8gYXZvaWQgbWVzc2FnZSBzaXplIGxpbWl0cy4gU2VlIGIvNjIxMTU2NjAuCiAgICBsZXQgcG9zaXRpb24gPSAwOwogICAgd2hpbGUgKHBvc2l0aW9uIDwgZmlsZURhdGEuYnl0ZUxlbmd0aCkgewogICAgICBjb25zdCBsZW5ndGggPSBNYXRoLm1pbihmaWxlRGF0YS5ieXRlTGVuZ3RoIC0gcG9zaXRpb24sIE1BWF9QQVlMT0FEX1NJWkUpOwogICAgICBjb25zdCBjaHVuayA9IG5ldyBVaW50OEFycmF5KGZpbGVEYXRhLCBwb3NpdGlvbiwgbGVuZ3RoKTsKICAgICAgcG9zaXRpb24gKz0gbGVuZ3RoOwoKICAgICAgY29uc3QgYmFzZTY0ID0gYnRvYShTdHJpbmcuZnJvbUNoYXJDb2RlLmFwcGx5KG51bGwsIGNodW5rKSk7CiAgICAgIHlpZWxkIHsKICAgICAgICByZXNwb25zZTogewogICAgICAgICAgYWN0aW9uOiAnYXBwZW5kJywKICAgICAgICAgIGZpbGU6IGZpbGUubmFtZSwKICAgICAgICAgIGRhdGE6IGJhc2U2NCwKICAgICAgICB9LAogICAgICB9OwogICAgICBwZXJjZW50LnRleHRDb250ZW50ID0KICAgICAgICAgIGAke01hdGgucm91bmQoKHBvc2l0aW9uIC8gZmlsZURhdGEuYnl0ZUxlbmd0aCkgKiAxMDApfSUgZG9uZWA7CiAgICB9CiAgfQoKICAvLyBBbGwgZG9uZS4KICB5aWVsZCB7CiAgICByZXNwb25zZTogewogICAgICBhY3Rpb246ICdjb21wbGV0ZScsCiAgICB9CiAgfTsKfQoKc2NvcGUuZ29vZ2xlID0gc2NvcGUuZ29vZ2xlIHx8IHt9OwpzY29wZS5nb29nbGUuY29sYWIgPSBzY29wZS5nb29nbGUuY29sYWIgfHwge307CnNjb3BlLmdvb2dsZS5jb2xhYi5fZmlsZXMgPSB7CiAgX3VwbG9hZEZpbGVzLAogIF91cGxvYWRGaWxlc0NvbnRpbnVlLAp9Owp9KShzZWxmKTsK",
              "ok": true,
              "headers": [
                [
                  "content-type",
                  "application/javascript"
                ]
              ],
              "status": 200,
              "status_text": ""
            }
          },
          "base_uri": "https://localhost:8080/",
          "height": 541
        },
        "id": "mbCbv83tFaIa",
        "outputId": "50ef57c6-c481-4571-ab84-7143def65d76"
      },
      "source": [
        "uploaded = files.upload()\n",
        "\n",
        "for fn in uploaded.keys():\n",
        "  path = fn\n",
        "  img = image.load_img(path, target_size=(150,150))\n",
        "  imgplot = plt.imshow(img)\n",
        "  x = image.img_to_array(img)\n",
        "  x = np.expand_dims(x, axis=0)\n",
        "  img = np.vstack([x])\n",
        "\n",
        "label, df = predict_image(img)\n",
        "\n",
        "print('\\n')\n",
        "plt.show()\n",
        "print(\"\\nThe image is detected as \" + label)\n",
        "print('\\n')\n",
        "print(df)\n",
        "print('\\n')"
      ],
      "execution_count": null,
      "outputs": [
        {
          "output_type": "display_data",
          "data": {
            "text/html": [
              "\n",
              "     <input type=\"file\" id=\"files-0924e2bf-dcbc-4337-b7c4-ca03b37fdc54\" name=\"files[]\" multiple disabled\n",
              "        style=\"border:none\" />\n",
              "     <output id=\"result-0924e2bf-dcbc-4337-b7c4-ca03b37fdc54\">\n",
              "      Upload widget is only available when the cell has been executed in the\n",
              "      current browser session. Please rerun this cell to enable.\n",
              "      </output>\n",
              "      <script src=\"/nbextensions/google.colab/files.js\"></script> "
            ],
            "text/plain": [
              "<IPython.core.display.HTML object>"
            ]
          },
          "metadata": {
            "tags": []
          }
        },
        {
          "output_type": "stream",
          "text": [
            "Saving Rock-paper-scissors_(scissors).png to Rock-paper-scissors_(scissors).png\n",
            "\n",
            "\n"
          ],
          "name": "stdout"
        },
        {
          "output_type": "display_data",
          "data": {
            "image/png": "[encoded data removed]",
            "text/plain": [
              "<Figure size 432x288 with 1 Axes>"
            ]
          },
          "metadata": {
            "tags": []
          }
        },
        {
          "output_type": "stream",
          "text": [
            "\n",
            "The image is detected as Scissor\n",
            "\n",
            "\n",
            "    Product   Probability\n",
            "0     Paper  1.852161e-06\n",
            "1      Rock  1.706480e-09\n",
            "2  Scissors  9.999981e-01\n",
            "\n",
            "\n",
            "time: 1min 51s (started: 2021-05-16 13:11:04 +00:00)\n"
          ],
          "name": "stdout"
        }
      ]
    }
  ]
}